{
 "cells": [
  {
   "cell_type": "markdown",
   "id": "a5d498f7",
   "metadata": {},
   "source": [
    "# GCP Vertex AI predictions\n",
    "\n",
    "To authenticate the requests, you need to create a service account with role \"Vertex AI Custom Code Service Agent\" on GCP and generate the credentials. Download the JSON file containing the credentials, rename it `key.json`, and place it into this folder.\n",
    "\n",
    "Useful links: https://cloud.google.com/iam/docs/keys-create-delete"
   ]
  },
  {
   "cell_type": "code",
   "execution_count": 1,
   "id": "424b559d",
   "metadata": {},
   "outputs": [],
   "source": [
    "import pandas as pd\n",
    "from google.oauth2 import service_account\n",
    "from google.cloud.aiplatform import Endpoint"
   ]
  },
  {
   "cell_type": "markdown",
   "id": "0ea09212",
   "metadata": {},
   "source": [
    "### Read the credentials"
   ]
  },
  {
   "cell_type": "code",
   "execution_count": 2,
   "id": "f2a47cfd",
   "metadata": {},
   "outputs": [],
   "source": [
    "credentials = service_account.Credentials.from_service_account_file('cgp-hackathon-40d7a1599ca1.json')"
   ]
  },
  {
   "cell_type": "markdown",
   "id": "8169abcf",
   "metadata": {},
   "source": [
    "### Connect to the endpoint"
   ]
  },
  {
   "cell_type": "code",
   "execution_count": 3,
   "id": "5f81eb43",
   "metadata": {},
   "outputs": [],
   "source": [
    "endpoint = Endpoint(\n",
    "    endpoint_name=\"5668373867324768256\",\n",
    "    project=\"cgp-hackathon\",\n",
    "    location=\"us-central1\",\n",
    "    credentials=credentials,\n",
    ")"
   ]
  },
  {
   "cell_type": "markdown",
   "id": "b4a498cb",
   "metadata": {},
   "source": [
    "### Load data"
   ]
  },
  {
   "cell_type": "code",
   "execution_count": 4,
   "id": "da770b51",
   "metadata": {},
   "outputs": [],
   "source": [
    "zoo = pd.read_csv(\"../data/zoo.csv\")\n",
    "X = zoo.iloc[:,1:-1]"
   ]
  },
  {
   "cell_type": "markdown",
   "id": "da420909",
   "metadata": {},
   "source": [
    "### Predict"
   ]
  },
  {
   "cell_type": "code",
   "execution_count": 5,
   "id": "30609f49",
   "metadata": {},
   "outputs": [
    {
     "name": "stdout",
     "output_type": "stream",
     "text": [
      "animal_name    aardvark\n",
      "hair                  1\n",
      "feathers              0\n",
      "eggs                  0\n",
      "milk                  1\n",
      "airborne              0\n",
      "aquatic               0\n",
      "predator              1\n",
      "toothed               1\n",
      "backbone              1\n",
      "breathes              1\n",
      "venomous              0\n",
      "fins                  0\n",
      "legs                  4\n",
      "tail                  0\n",
      "domestic              0\n",
      "catsize               1\n",
      "class_type       Mammal\n",
      "Name: 0, dtype: object \n",
      "\n",
      "Prediction(predictions=['Mammal'], deployed_model_id='9201806215787577344', model_version_id='1', model_resource_name='projects/1001940531953/locations/us-central1/models/5642352825141821440', explanations=None)\n"
     ]
    }
   ],
   "source": [
    "n = 0\n",
    "predictions = endpoint.predict(instances=[list(X.iloc[n])])\n",
    "print(zoo.iloc[n], '\\n')\n",
    "print(predictions)"
   ]
  },
  {
   "cell_type": "code",
   "execution_count": null,
   "id": "cd4d8a88",
   "metadata": {},
   "outputs": [],
   "source": []
  }
 ],
 "metadata": {
  "kernelspec": {
   "display_name": "Python 3 (ipykernel)",
   "language": "python",
   "name": "python3"
  },
  "language_info": {
   "codemirror_mode": {
    "name": "ipython",
    "version": 3
   },
   "file_extension": ".py",
   "mimetype": "text/x-python",
   "name": "python",
   "nbconvert_exporter": "python",
   "pygments_lexer": "ipython3",
   "version": "3.7.0"
  }
 },
 "nbformat": 4,
 "nbformat_minor": 5
}
